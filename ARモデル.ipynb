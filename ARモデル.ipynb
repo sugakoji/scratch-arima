{
 "cells": [
  {
   "cell_type": "code",
   "execution_count": 169,
   "metadata": {},
   "outputs": [],
   "source": [
    "import statsmodels.api as sm\n",
    "import matplotlib.pyplot as plt\n",
    "import numpy as np"
   ]
  },
  {
   "cell_type": "code",
   "execution_count": 170,
   "metadata": {},
   "outputs": [],
   "source": [
    "import os\n",
    "import sys\n",
    "pardir = os.path.dirname(os.getcwd())\n",
    "sys.path.append(pardir)"
   ]
  },
  {
   "cell_type": "code",
   "execution_count": 171,
   "metadata": {},
   "outputs": [],
   "source": [
    "from src.ar import YW_AR"
   ]
  },
  {
   "cell_type": "markdown",
   "metadata": {},
   "source": [
    "# AR(2)の推定"
   ]
  },
  {
   "cell_type": "code",
   "execution_count": 172,
   "metadata": {},
   "outputs": [
    {
     "name": "stdout",
     "output_type": "stream",
     "text": [
      "次数は2\n",
      "パラメタは\n",
      "[ 1.9869473   0.2051959   0.29791684]\n",
      "分散は\n",
      "4.00736207654\n"
     ]
    }
   ],
   "source": [
    "c = 2\n",
    "phi = 0.2\n",
    "phi2 = 0.3\n",
    "var = 4\n",
    "\n",
    "ini_y = 13\n",
    "\n",
    "T = 10000\n",
    "\n",
    "y = np.zeros(T)\n",
    "x = np.zeros(T)\n",
    "\n",
    "# 再現性のためあらかじめ作成しておく\n",
    "np.random.seed(seed=5)\n",
    "eps = np.random.normal(loc = 0, scale = np.sqrt(var),size  = T)\n",
    "\n",
    "y[0] = ini_y\n",
    "for t in range(2,T):\n",
    "    y[t] = c + phi * y[t-1] + phi2 * y[t-2] + eps[t]\n",
    "\n",
    "# モデルの生成\n",
    "model = sm.tsa.AR(y)\n",
    "\n",
    "# AICでモデルの次数を選択\n",
    "order = model.select_order(maxlag=3, ic='aic')\n",
    "print(\"次数は{}\".format(order))\n",
    "\n",
    "# 推定\n",
    "model_fit = model.fit(maxlag=order) \n",
    "\n",
    "print(\"パラメタは\")\n",
    "print(model_fit.params)\n",
    "print(\"分散は\")\n",
    "print(model_fit.sigma2)\n"
   ]
  },
  {
   "cell_type": "markdown",
   "metadata": {},
   "source": [
    "# 自作の推定"
   ]
  },
  {
   "cell_type": "code",
   "execution_count": 173,
   "metadata": {},
   "outputs": [
    {
     "name": "stdout",
     "output_type": "stream",
     "text": [
      "y[t] = 1.99 + 0.20 * y[t-1] + 0.30 * y[t-2] + e      e ~ N(0,4.01)\n"
     ]
    }
   ],
   "source": [
    "model = YW_AR(p=2)\n",
    "model.fit(y)\n",
    "model.show_model()"
   ]
  },
  {
   "cell_type": "markdown",
   "metadata": {},
   "source": [
    "# AR(3)の実装"
   ]
  },
  {
   "cell_type": "code",
   "execution_count": 174,
   "metadata": {},
   "outputs": [
    {
     "name": "stdout",
     "output_type": "stream",
     "text": [
      "次数は3\n",
      "パラメタは\n",
      "[ 1.98158597  0.20704322  0.29764317  0.09878037]\n",
      "分散は\n",
      "4.00531224028\n"
     ]
    }
   ],
   "source": [
    "c = 2\n",
    "phi = 0.2\n",
    "phi2 = 0.3\n",
    "phi3 = 0.1\n",
    "var = 4\n",
    "\n",
    "ini_y = 13\n",
    "\n",
    "T = 10000\n",
    "\n",
    "y = np.zeros(T)\n",
    "x = np.zeros(T)\n",
    "\n",
    "# 再現性のためあらかじめ作成しておく\n",
    "np.random.seed(seed=5)\n",
    "eps = np.random.normal(loc = 0, scale = np.sqrt(var),size  = T)\n",
    "\n",
    "y[0] = ini_y\n",
    "for t in range(3,T):\n",
    "    y[t] = c + phi * y[t-1] + phi2 * y[t-2]+ phi3 * y[t-3] + eps[t]\n",
    "\n",
    "# モデルの生成\n",
    "model = sm.tsa.AR(y)\n",
    "\n",
    "# AICでモデルの次数を選択\n",
    "order = model.select_order(maxlag=4, ic='aic')\n",
    "print(\"次数は{}\".format(order))\n",
    "\n",
    "# 推定\n",
    "model_fit = model.fit(maxlag=order) \n",
    "\n",
    "print(\"パラメタは\")\n",
    "print(model_fit.params)\n",
    "print(\"分散は\")\n",
    "print(model_fit.sigma2)\n",
    "\n"
   ]
  },
  {
   "cell_type": "code",
   "execution_count": 175,
   "metadata": {},
   "outputs": [
    {
     "data": {
      "text/plain": [
       "1.3886218401877417"
      ]
     },
     "execution_count": 175,
     "metadata": {},
     "output_type": "execute_result"
    }
   ],
   "source": [
    "model_fit.aic"
   ]
  },
  {
   "cell_type": "markdown",
   "metadata": {},
   "source": [
    "# 自作の推定\n",
    "\n",
    "r = np.corrcoef([y[:-2], y[1:-1], y[2:]])\n",
    "inv_r = np.linalg.inv(r)\n",
    "r_2 = np.corrcoef([y[:-3],y[1:-2], y[2:-1],y[3:]])[:,0][1:]\n",
    "np.dot(inv_r,r_2)"
   ]
  },
  {
   "cell_type": "code",
   "execution_count": 176,
   "metadata": {},
   "outputs": [
    {
     "name": "stdout",
     "output_type": "stream",
     "text": [
      "y[t] = 1.99 + 0.21 * y[t-1] + 0.30 * y[t-2] + 0.10 * y[t-3] + e      e ~ N(0,4.01)\n"
     ]
    }
   ],
   "source": [
    "model = YW_AR(p=3)\n",
    "model.fit(y)\n",
    "model.show_model()"
   ]
  },
  {
   "cell_type": "code",
   "execution_count": null,
   "metadata": {},
   "outputs": [],
   "source": []
  },
  {
   "cell_type": "code",
   "execution_count": 134,
   "metadata": {},
   "outputs": [],
   "source": []
  },
  {
   "cell_type": "code",
   "execution_count": 135,
   "metadata": {},
   "outputs": [],
   "source": []
  },
  {
   "cell_type": "code",
   "execution_count": null,
   "metadata": {},
   "outputs": [],
   "source": []
  },
  {
   "cell_type": "code",
   "execution_count": null,
   "metadata": {},
   "outputs": [],
   "source": []
  },
  {
   "cell_type": "code",
   "execution_count": null,
   "metadata": {},
   "outputs": [],
   "source": []
  }
 ],
 "metadata": {
  "kernelspec": {
   "display_name": "Python 3",
   "language": "python",
   "name": "python3"
  },
  "language_info": {
   "codemirror_mode": {
    "name": "ipython",
    "version": 3
   },
   "file_extension": ".py",
   "mimetype": "text/x-python",
   "name": "python",
   "nbconvert_exporter": "python",
   "pygments_lexer": "ipython3",
   "version": "3.6.8"
  },
  "toc": {
   "colors": {
    "hover_highlight": "#DAA520",
    "navigate_num": "#000000",
    "navigate_text": "#333333",
    "running_highlight": "#FF0000",
    "selected_highlight": "#FFD700",
    "sidebar_border": "#EEEEEE",
    "wrapper_background": "#FFFFFF"
   },
   "moveMenuLeft": true,
   "nav_menu": {
    "height": "84px",
    "width": "252px"
   },
   "navigate_menu": true,
   "number_sections": true,
   "sideBar": true,
   "threshold": 4,
   "toc_cell": false,
   "toc_section_display": "block",
   "toc_window_display": false,
   "widenNotebook": false
  }
 },
 "nbformat": 4,
 "nbformat_minor": 2
}
